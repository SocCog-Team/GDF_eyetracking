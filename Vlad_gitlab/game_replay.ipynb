{
 "cells": [
  {
   "cell_type": "code",
   "execution_count": 1,
   "metadata": {},
   "outputs": [],
   "source": [
    "import pickle\n",
    "import matplotlib.pyplot as plt\n",
    "from matplotlib.animation import FuncAnimation, FFMpegWriter\n",
    "\n",
    "%matplotlib widget"
   ]
  },
  {
   "cell_type": "code",
   "execution_count": 2,
   "metadata": {},
   "outputs": [],
   "source": [
    "data_path = \"data.pickle\"\n",
    "\n",
    "with open(data_path, \"rb\") as file:\n",
    "    records = pickle.load(file)\n",
    "    file.close()"
   ]
  },
  {
   "cell_type": "code",
   "execution_count": 3,
   "metadata": {},
   "outputs": [],
   "source": [
    "dyad = '[100, 101]'\n",
    "block = 1\n",
    "\n",
    "rec = records[dyad][block]\n",
    "rec = rec.iloc[0:120*60]  # use only the first 1 minute\n",
    "rec_init = rec.iloc[0]\n",
    "\n",
    "# Intialize the plot\n",
    "fig, ax = plt.subplots()\n",
    "\n",
    "# Agent trajectories\n",
    "p0_agent, = ax.plot(rec_init['p0_agent_x'], rec_init['p0_agent_y'], marker='.', linewidth=0, markersize=20)\n",
    "p1_agent, = ax.plot(rec_init['p1_agent_x'], rec_init['p1_agent_y'], marker='.', linewidth=0, markersize=20)\n",
    "# Eye-tracking\n",
    "p0_gaze, = ax.plot(rec_init['p0_gaze_x'], rec_init['p0_gaze_y'], marker='+', linewidth=0, markersize=10, color='tab:blue')\n",
    "p1_gaze, = ax.plot(rec_init['p1_gaze_x'], rec_init['p1_gaze_y'], marker='+', linewidth=0, markersize=10, color='tab:orange')\n",
    "# Targets\n",
    "comp = plt.Circle(rec_init[['comp_x', 'comp_y']],    radius=0.05, color='black',  fill=False)\n",
    "coop0 = plt.Circle(rec_init[['coop0_x', 'coop0_y']], radius=0.05, color='blue',   fill=True, alpha=0.5)\n",
    "coop1 = plt.Circle(rec_init[['coop1_x', 'coop1_y']], radius=0.05, color='orange', fill=True, alpha=0.5)\n",
    "\n",
    "ax.add_artist(comp)\n",
    "ax.add_artist(coop0)\n",
    "ax.add_artist(coop1)\n",
    "\n",
    "ax.set_xlim([0, 1])\n",
    "ax.set_ylim([0, 1])\n",
    "ax.set_aspect(1)\n",
    "\n",
    "# Function to update the plot for each frame\n",
    "def update(frame):\n",
    "    \n",
    "    rec_frame = rec.iloc[frame]\n",
    "    \n",
    "    p0_agent.set_data(rec_frame['p0_agent_x'], rec_frame['p0_agent_y'])\n",
    "    p1_agent.set_data(rec_frame['p1_agent_x'], rec_frame['p1_agent_y'])\n",
    "    \n",
    "    p0_gaze.set_data(rec_frame['p0_gaze_x'], rec_frame['p0_gaze_y'])\n",
    "    p1_gaze.set_data(rec_frame['p1_gaze_x'], rec_frame['p1_gaze_y'])\n",
    "    \n",
    "    comp.set_center(rec_frame[['comp_x', 'comp_y']])\n",
    "    coop0.set_center(rec_frame[['coop0_x', 'coop0_y']])\n",
    "    coop1.set_center(rec_frame[['coop1_x', 'coop1_y']])\n",
    "\n",
    "    return p0_agent, p1_agent, p0_gaze, p1_gaze, comp, coop0, coop1\n",
    "\n",
    "# Create the animation\n",
    "ani = FuncAnimation(fig, update, interval=8.33, frames=rec.shape[0], blit=True)\n",
    "# plt.show()\n",
    "\n",
    "# Save the animation in .mp4 format\n",
    "writer = FFMpegWriter(fps=120)  # Adjust fps as needed\n",
    "ani.save(f'replays/{dyad}_{block}.mp4', writer=writer)\n",
    "\n",
    "plt.close()"
   ]
  }
 ],
 "metadata": {
  "kernelspec": {
   "display_name": "gdf",
   "language": "python",
   "name": "python3"
  },
  "language_info": {
   "codemirror_mode": {
    "name": "ipython",
    "version": 3
   },
   "file_extension": ".py",
   "mimetype": "text/x-python",
   "name": "python",
   "nbconvert_exporter": "python",
   "pygments_lexer": "ipython3",
   "version": "3.10.9"
  }
 },
 "nbformat": 4,
 "nbformat_minor": 2
}
