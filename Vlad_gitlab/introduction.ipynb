{
 "cells": [
  {
   "cell_type": "code",
   "execution_count": 2,
   "metadata": {},
   "outputs": [],
   "source": [
    "import pickle\n",
    "import matplotlib.pyplot as plt"
   ]
  },
  {
   "cell_type": "markdown",
   "metadata": {},
   "source": [
    "# Load the data"
   ]
  },
  {
   "cell_type": "code",
   "execution_count": 5,
   "metadata": {},
   "outputs": [],
   "source": [
    "data_path = \"data.pickle\"  # if the file can't be found try absolute path\n",
    "\n",
    "# The data is stored in .pickle format, so we use pickle module to load it. \n",
    "# It takes several seconds to load the file. \n",
    "with open(data_path, \"rb\") as file:\n",
    "    records = pickle.load(file)\n",
    "    file.close()"
   ]
  },
  {
   "cell_type": "markdown",
   "metadata": {},
   "source": [
    "The loaded data is stored in a nested dictionary, where the first level is dyad and the second is recording block. \n",
    "We have recorded 15 dyads (in the datset only 14 due to some thecnical issues). The dyad id (dict key) is a string in the format '[xxx, yyy]', where xxx stands for id of the person who was on the brighter side of the screen (blue player, p0) and yyy for the other person (orange player, p1)."
   ]
  },
  {
   "cell_type": "code",
   "execution_count": 6,
   "metadata": {},
   "outputs": [
    {
     "name": "stdout",
     "output_type": "stream",
     "text": [
      "dict_keys(['[100, 101]', '[102, 103]', '[104, 105]', '[200, 201]', '[202, 203]', '[204, 205]', '[206, 207]', '[208, 209]', '[210, 211]', '[300, 301]', '[304, 305]', '[306, 307]', '[308, 309]', '[310, 311]'])\n"
     ]
    }
   ],
   "source": [
    "# Print all dyads ids\n",
    "print(records.keys())"
   ]
  },
  {
   "cell_type": "markdown",
   "metadata": {},
   "source": [
    "There are available three blocks (each twenty minumtes) per dyad (few have only two)."
   ]
  },
  {
   "cell_type": "code",
   "execution_count": 7,
   "metadata": {},
   "outputs": [
    {
     "name": "stdout",
     "output_type": "stream",
     "text": [
      "dict_keys([1, 2])\n"
     ]
    }
   ],
   "source": [
    "# Print an example of block ids. The keys are integers. \n",
    "print(records['[200, 201]'].keys())"
   ]
  },
  {
   "cell_type": "markdown",
   "metadata": {},
   "source": [
    "# Structure of the recordings"
   ]
  },
  {
   "cell_type": "markdown",
   "metadata": {},
   "source": [
    "Each recording is stored in pandas DataFrame - table. \n",
    "Rows are consequent frames. The sampling rate is ca. 120 frames / second. \n",
    "Each column stores different recorded and computed variables."
   ]
  },
  {
   "cell_type": "code",
   "execution_count": 8,
   "metadata": {},
   "outputs": [
    {
     "data": {
      "text/html": [
       "<div>\n",
       "<style scoped>\n",
       "    .dataframe tbody tr th:only-of-type {\n",
       "        vertical-align: middle;\n",
       "    }\n",
       "\n",
       "    .dataframe tbody tr th {\n",
       "        vertical-align: top;\n",
       "    }\n",
       "\n",
       "    .dataframe thead th {\n",
       "        text-align: right;\n",
       "    }\n",
       "</style>\n",
       "<table border=\"1\" class=\"dataframe\">\n",
       "  <thead>\n",
       "    <tr style=\"text-align: right;\">\n",
       "      <th></th>\n",
       "      <th>timestamp</th>\n",
       "      <th>p0_score</th>\n",
       "      <th>p1_score</th>\n",
       "      <th>p0_agent_x</th>\n",
       "      <th>p0_agent_y</th>\n",
       "      <th>p1_agent_x</th>\n",
       "      <th>p1_agent_y</th>\n",
       "      <th>p0_gaze_x</th>\n",
       "      <th>p0_gaze_y</th>\n",
       "      <th>p1_gaze_x</th>\n",
       "      <th>...</th>\n",
       "      <th>coop0_entered_by_p1</th>\n",
       "      <th>coop1_entered_by_p0</th>\n",
       "      <th>coop1_entered_by_p1</th>\n",
       "      <th>comp_left_by_p0</th>\n",
       "      <th>comp_left_by_p1</th>\n",
       "      <th>coop0_left_by_p0</th>\n",
       "      <th>coop0_left_by_p1</th>\n",
       "      <th>coop1_left_by_p0</th>\n",
       "      <th>coop1_left_by_p1</th>\n",
       "      <th>org_timestamp</th>\n",
       "    </tr>\n",
       "  </thead>\n",
       "  <tbody>\n",
       "    <tr>\n",
       "      <th>0</th>\n",
       "      <td>0.000000</td>\n",
       "      <td>0.0</td>\n",
       "      <td>0.0</td>\n",
       "      <td>0.5</td>\n",
       "      <td>0.5</td>\n",
       "      <td>0.5</td>\n",
       "      <td>0.5</td>\n",
       "      <td>0.000000</td>\n",
       "      <td>0.000000</td>\n",
       "      <td>0.000000</td>\n",
       "      <td>...</td>\n",
       "      <td>0</td>\n",
       "      <td>0</td>\n",
       "      <td>0</td>\n",
       "      <td>0</td>\n",
       "      <td>0</td>\n",
       "      <td>0</td>\n",
       "      <td>0</td>\n",
       "      <td>0</td>\n",
       "      <td>0</td>\n",
       "      <td>3659.639546</td>\n",
       "    </tr>\n",
       "    <tr>\n",
       "      <th>1</th>\n",
       "      <td>0.007808</td>\n",
       "      <td>0.0</td>\n",
       "      <td>0.0</td>\n",
       "      <td>0.5</td>\n",
       "      <td>0.5</td>\n",
       "      <td>0.5</td>\n",
       "      <td>0.5</td>\n",
       "      <td>0.468573</td>\n",
       "      <td>0.523261</td>\n",
       "      <td>0.603357</td>\n",
       "      <td>...</td>\n",
       "      <td>0</td>\n",
       "      <td>0</td>\n",
       "      <td>0</td>\n",
       "      <td>0</td>\n",
       "      <td>0</td>\n",
       "      <td>0</td>\n",
       "      <td>0</td>\n",
       "      <td>0</td>\n",
       "      <td>0</td>\n",
       "      <td>3659.647354</td>\n",
       "    </tr>\n",
       "    <tr>\n",
       "      <th>2</th>\n",
       "      <td>0.016175</td>\n",
       "      <td>0.0</td>\n",
       "      <td>0.0</td>\n",
       "      <td>0.5</td>\n",
       "      <td>0.5</td>\n",
       "      <td>0.5</td>\n",
       "      <td>0.5</td>\n",
       "      <td>0.467244</td>\n",
       "      <td>0.523696</td>\n",
       "      <td>0.599759</td>\n",
       "      <td>...</td>\n",
       "      <td>0</td>\n",
       "      <td>0</td>\n",
       "      <td>0</td>\n",
       "      <td>0</td>\n",
       "      <td>0</td>\n",
       "      <td>0</td>\n",
       "      <td>0</td>\n",
       "      <td>0</td>\n",
       "      <td>0</td>\n",
       "      <td>3659.655721</td>\n",
       "    </tr>\n",
       "    <tr>\n",
       "      <th>3</th>\n",
       "      <td>0.025929</td>\n",
       "      <td>0.0</td>\n",
       "      <td>0.0</td>\n",
       "      <td>0.5</td>\n",
       "      <td>0.5</td>\n",
       "      <td>0.5</td>\n",
       "      <td>0.5</td>\n",
       "      <td>0.466559</td>\n",
       "      <td>0.523555</td>\n",
       "      <td>0.599048</td>\n",
       "      <td>...</td>\n",
       "      <td>0</td>\n",
       "      <td>0</td>\n",
       "      <td>0</td>\n",
       "      <td>0</td>\n",
       "      <td>0</td>\n",
       "      <td>0</td>\n",
       "      <td>0</td>\n",
       "      <td>0</td>\n",
       "      <td>0</td>\n",
       "      <td>3659.665475</td>\n",
       "    </tr>\n",
       "    <tr>\n",
       "      <th>4</th>\n",
       "      <td>0.032879</td>\n",
       "      <td>0.0</td>\n",
       "      <td>0.0</td>\n",
       "      <td>0.5</td>\n",
       "      <td>0.5</td>\n",
       "      <td>0.5</td>\n",
       "      <td>0.5</td>\n",
       "      <td>0.467537</td>\n",
       "      <td>0.525252</td>\n",
       "      <td>0.599965</td>\n",
       "      <td>...</td>\n",
       "      <td>0</td>\n",
       "      <td>0</td>\n",
       "      <td>0</td>\n",
       "      <td>0</td>\n",
       "      <td>0</td>\n",
       "      <td>0</td>\n",
       "      <td>0</td>\n",
       "      <td>0</td>\n",
       "      <td>0</td>\n",
       "      <td>3659.672425</td>\n",
       "    </tr>\n",
       "  </tbody>\n",
       "</table>\n",
       "<p>5 rows × 34 columns</p>\n",
       "</div>"
      ],
      "text/plain": [
       "   timestamp  p0_score  p1_score  p0_agent_x  p0_agent_y  p1_agent_x  \\\n",
       "0   0.000000       0.0       0.0         0.5         0.5         0.5   \n",
       "1   0.007808       0.0       0.0         0.5         0.5         0.5   \n",
       "2   0.016175       0.0       0.0         0.5         0.5         0.5   \n",
       "3   0.025929       0.0       0.0         0.5         0.5         0.5   \n",
       "4   0.032879       0.0       0.0         0.5         0.5         0.5   \n",
       "\n",
       "   p1_agent_y  p0_gaze_x  p0_gaze_y  p1_gaze_x  ...  coop0_entered_by_p1  \\\n",
       "0         0.5   0.000000   0.000000   0.000000  ...                    0   \n",
       "1         0.5   0.468573   0.523261   0.603357  ...                    0   \n",
       "2         0.5   0.467244   0.523696   0.599759  ...                    0   \n",
       "3         0.5   0.466559   0.523555   0.599048  ...                    0   \n",
       "4         0.5   0.467537   0.525252   0.599965  ...                    0   \n",
       "\n",
       "   coop1_entered_by_p0  coop1_entered_by_p1  comp_left_by_p0  comp_left_by_p1  \\\n",
       "0                    0                    0                0                0   \n",
       "1                    0                    0                0                0   \n",
       "2                    0                    0                0                0   \n",
       "3                    0                    0                0                0   \n",
       "4                    0                    0                0                0   \n",
       "\n",
       "   coop0_left_by_p0  coop0_left_by_p1  coop1_left_by_p0  coop1_left_by_p1  \\\n",
       "0                 0                 0                 0                 0   \n",
       "1                 0                 0                 0                 0   \n",
       "2                 0                 0                 0                 0   \n",
       "3                 0                 0                 0                 0   \n",
       "4                 0                 0                 0                 0   \n",
       "\n",
       "   org_timestamp  \n",
       "0    3659.639546  \n",
       "1    3659.647354  \n",
       "2    3659.655721  \n",
       "3    3659.665475  \n",
       "4    3659.672425  \n",
       "\n",
       "[5 rows x 34 columns]"
      ]
     },
     "execution_count": 8,
     "metadata": {},
     "output_type": "execute_result"
    }
   ],
   "source": [
    "# Print the first 5 rows of the table\n",
    "records['[100, 101]'][1].head()"
   ]
  },
  {
   "cell_type": "code",
   "execution_count": 9,
   "metadata": {},
   "outputs": [
    {
     "data": {
      "text/plain": [
       "Index(['timestamp', 'p0_score', 'p1_score', 'p0_agent_x', 'p0_agent_y',\n",
       "       'p1_agent_x', 'p1_agent_y', 'p0_gaze_x', 'p0_gaze_y', 'p1_gaze_x',\n",
       "       'p1_gaze_y', 'comp_x', 'comp_y', 'coop0_x', 'coop0_y', 'coop1_x',\n",
       "       'coop1_y', 'comp_collected_by_p0', 'comp_collected_by_p1',\n",
       "       'coop0_collected', 'coop1_collected', 'comp_entered_by_p0',\n",
       "       'comp_entered_by_p1', 'coop0_entered_by_p0', 'coop0_entered_by_p1',\n",
       "       'coop1_entered_by_p0', 'coop1_entered_by_p1', 'comp_left_by_p0',\n",
       "       'comp_left_by_p1', 'coop0_left_by_p0', 'coop0_left_by_p1',\n",
       "       'coop1_left_by_p0', 'coop1_left_by_p1', 'org_timestamp'],\n",
       "      dtype='object')"
      ]
     },
     "execution_count": 9,
     "metadata": {},
     "output_type": "execute_result"
    }
   ],
   "source": [
    "# Print all columns in the table\n",
    "records['[100, 101]'][1].columns"
   ]
  },
  {
   "cell_type": "markdown",
   "metadata": {},
   "source": [
    "## Descirption of the variables (columns)\n",
    "- 'timestamp' - normalized timestamp of the frames in seconds. The last entry is around 1200, which is 20min. \n",
    "- 'org_timestamp' - original timestamps from the eyetracker\n",
    "\n",
    "**xy-position of the mouse controlled agent on the screen**\n",
    "- 'p0_agent_x', 'p0_agent_y' - for player p0 (blue player)\n",
    "- 'p1_agent_x', 'p1_agent_y' - for player p1 (orange player)\n",
    "\n",
    "**The actual mose position in the system. This is irrelevant unless you want to expore actuall mouse movements. The agent position doesn't always correspond to the hidden mouse cursor position, because we have a speed limit in the game. If a subject moves the mouse too quickly the agent will follow the cursor.**\n",
    "'p0_aim_x', 'p0_aim_y', 'p1_aim_x', 'p1_aim_y'\n",
    "\n",
    "**xy-position of the gaze**\n",
    "- 'p0_gaze_x', 'p0_gaze_y' - for player p0 (blue player)\n",
    "- 'p1_gaze_x', 'p1_gaze_y' - for player p1 (orange player)\n",
    "\n",
    "**Score - collected money in cents**\n",
    "- 'p0_score', 'p1_score' -  for player p0 and p1 respecively\n",
    "\n",
    "**xy-position of the targets on the screen**\n",
    "- 'comp_x', 'comp_y' - single target \n",
    "- 'coop0_x', 'coop0_y' - blue joint\n",
    "- 'coop1_x', 'coop1_y' - orange joint\n",
    "\n",
    "**Entry '1' indicates a frame when a specific target was collected**\n",
    "- 'comp_collected_by_p0' - player p0 collected a single target\n",
    "- 'comp_collected_by_p1' - player p1 collected a single target\n",
    "- 'coop0_collected' - a blue joint target was collected \n",
    "- 'coop1_collected' - an orange joint target was collected \n",
    "\n",
    "**Entry '1' indicates a frame when a player entered or exited a target**\n",
    "- 'comp_entered_by_p0', 'comp_left_by_p0', 'comp_entered_by_p1', 'comp_left_by_p1' \n",
    "- 'coop0_entered_by_p0', 'coop1_left_by_p0', 'coop0_entered_by_p1', 'coop0_left_by_p1' \n",
    "- 'coop1_entered_by_p0', 'coop1_left_by_p0', 'coop1_entered_by_p1', 'coop1_left_by_p1' "
   ]
  },
  {
   "cell_type": "markdown",
   "metadata": {},
   "source": [
    "# Plot 3 seconds of the game"
   ]
  },
  {
   "cell_type": "code",
   "execution_count": 25,
   "metadata": {},
   "outputs": [
    {
     "data": {
      "image/png": "[encoded data removed]",
      "text/plain": [
       "<Figure size 640x480 with 1 Axes>"
      ]
     },
     "metadata": {},
     "output_type": "display_data"
    }
   ],
   "source": [
    "dyad = '[100, 101]'\n",
    "block = 1\n",
    "rec = records[dyad][block]\n",
    "\n",
    "rec_interval = rec.loc[(rec['timestamp'] >= 15) & (rec['timestamp'] < 18)]  # get the frames in the interval between 15th and 18th second.\n",
    "\n",
    "fig, ax = plt.subplots()\n",
    "\n",
    "# Plot agent trajectories\n",
    "ax.plot(rec_interval['p0_agent_x'], rec_interval['p0_agent_y'])\n",
    "ax.plot(rec_interval['p1_agent_x'], rec_interval['p1_agent_y'])\n",
    "\n",
    "# Plot eye-tracking\n",
    "ax.scatter(rec_interval['p0_gaze_x'], rec_interval['p0_gaze_y'], marker='+', s=1, color='tab:blue')\n",
    "ax.scatter(rec_interval['p1_gaze_x'], rec_interval['p1_gaze_y'], marker='+', s=1, color='tab:orange')\n",
    "\n",
    "# Plot targets\n",
    "comp = plt.Circle(rec_interval[['comp_x', 'comp_y']].iloc[0], radius=0.05, color='black', fill=False)\n",
    "coop0 = plt.Circle(rec_interval[['coop0_x', 'coop0_y']].iloc[0], radius=0.05, color='blue', fill=True)\n",
    "coop1 = plt.Circle(rec_interval[['coop1_x', 'coop1_y']].iloc[0], radius=0.05, color='orange', fill=True)\n",
    "\n",
    "ax.add_artist(comp)\n",
    "ax.add_artist(coop0)\n",
    "ax.add_artist(coop1)\n",
    "\n",
    "ax.set_xlim([0, 1])\n",
    "ax.set_ylim([0, 1])\n",
    "ax.set_aspect(1)"
   ]
  }
 ],
 "metadata": {
  "kernelspec": {
   "display_name": "gdf",
   "language": "python",
   "name": "python3"
  },
  "language_info": {
   "codemirror_mode": {
    "name": "ipython",
    "version": 3
   },
   "file_extension": ".py",
   "mimetype": "text/x-python",
   "name": "python",
   "nbconvert_exporter": "python",
   "pygments_lexer": "ipython3",
   "version": "3.10.9"
  }
 },
 "nbformat": 4,
 "nbformat_minor": 2
}
